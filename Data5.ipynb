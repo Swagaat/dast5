{
  "nbformat": 4,
  "nbformat_minor": 0,
  "metadata": {
    "colab": {
      "provenance": [],
      "authorship_tag": "ABX9TyPDGm6QG2i/g+f71FuXcjhA",
      "include_colab_link": true
    },
    "kernelspec": {
      "name": "python3",
      "display_name": "Python 3"
    },
    "language_info": {
      "name": "python"
    }
  },
  "cells": [
    {
      "cell_type": "markdown",
      "metadata": {
        "id": "view-in-github",
        "colab_type": "text"
      },
      "source": [
        "<a href=\"https://colab.research.google.com/github/Swagaat/dast5/blob/main/Data5.ipynb\" target=\"_parent\"><img src=\"https://colab.research.google.com/assets/colab-badge.svg\" alt=\"Open In Colab\"/></a>"
      ]
    },
    {
      "cell_type": "code",
      "execution_count": 1,
      "metadata": {
        "colab": {
          "base_uri": "https://localhost:8080/"
        },
        "id": "hFPSOnPlSXI7",
        "outputId": "078bfc96-928a-4746-9873-67c9ede6e810"
      },
      "outputs": [
        {
          "output_type": "stream",
          "name": "stdout",
          "text": [
            "['t', 's', 'r', 'o']\n"
          ]
        }
      ],
      "source": [
        "#Solution-1\n",
        "def sort_stack(stack):\n",
        "    temp_stack = []\n",
        "    while stack:\n",
        "        element = stack.pop()\n",
        "        while temp_stack and element < temp_stack[-1]:\n",
        "            stack.append(temp_stack.pop())\n",
        "        temp_stack.append(element)\n",
        "    while temp_stack:\n",
        "        stack.append(temp_stack.pop())\n",
        "stack = ['t', 'r', 'o', 's']\n",
        "sort_stack(stack)\n",
        "print(stack)\n"
      ]
    },
    {
      "cell_type": "code",
      "source": [
        "#soluti0n-2:\n",
        "def get_next_bigger_values(stack):\n",
        "    # Initialize an empty dictionary to store the next bigger value for each element\n",
        "    next_bigger = {}\n",
        "\n",
        "    # Initialize a new stack to keep track of elements we haven't found the next bigger value for yet\n",
        "    remaining = []\n",
        "\n",
        "    # Iterate over the elements in the stack from top to bottom\n",
        "    for element in stack[::-1]:\n",
        "        # Pop elements off the remaining stack until we find one that's bigger than the current element\n",
        "        while remaining and remaining[-1] <= element:\n",
        "            remaining.pop()\n",
        "\n",
        "        # If there's an element left in the remaining stack, it's the next bigger value\n",
        "        if remaining:\n",
        "            next_bigger[element] = remaining[-1]\n",
        "\n",
        "        # Push the current element onto the remaining stack\n",
        "        remaining.append(element)\n",
        "\n",
        "    # Add None as the next bigger value for any elements that don't have one\n",
        "    for element in stack:\n",
        "        if element not in next_bigger:\n",
        "            next_bigger[element] = None\n",
        "\n",
        "    return next_bigger\n",
        "stack = [5, 3, 2, 10, 6, 8, 1, 4, 12, 7, 4]\n",
        "next_bigger = get_next_bigger_values(stack)\n",
        "\n",
        "for element in stack:\n",
        "    print(f\"{element} -> {next_bigger[element]}\")\n",
        "\n"
      ],
      "metadata": {
        "colab": {
          "base_uri": "https://localhost:8080/"
        },
        "id": "pHuf7veFSb6h",
        "outputId": "b3bae0a4-f914-43f1-87a2-c5f1a110b29a"
      },
      "execution_count": 2,
      "outputs": [
        {
          "output_type": "stream",
          "name": "stdout",
          "text": [
            "5 -> 10\n",
            "3 -> 10\n",
            "2 -> 10\n",
            "10 -> 12\n",
            "6 -> 8\n",
            "8 -> 12\n",
            "1 -> 4\n",
            "4 -> 12\n",
            "12 -> None\n",
            "7 -> None\n",
            "4 -> 12\n"
          ]
        }
      ]
    },
    {
      "cell_type": "code",
      "source": [
        "#Solution-3:\n",
        "def find_consecutive_pairs(stack):\n",
        "    result = []\n",
        "    for i in range(len(stack) - 1):\n",
        "        if stack[i] == stack[i+1] + 1:\n",
        "            result.append((stack[i], stack[i+1]))\n",
        "        elif stack[i] == stack[i+1] - 1:\n",
        "            result.append((stack[i+1], stack[i]))\n",
        "    return result\n",
        "stack1 = [4, 2, 7, 6, 5, 1, 3]\n",
        "stack2 = [1, 3, 5, 6, 8, 9, 2]\n",
        "\n",
        "consecutive_pairs1 = find_consecutive_pairs(stack1)\n",
        "consecutive_pairs2 = find_consecutive_pairs(stack2)\n",
        "\n",
        "if len(consecutive_pairs1) > 0:\n",
        "    print(\"Consecutive pairs in stack 1:\")\n",
        "    for pair in consecutive_pairs1:\n",
        "        print(pair)\n",
        "else:\n",
        "    print(\"No consecutive pairs found in stack 1\")\n",
        "\n",
        "if len(consecutive_pairs2) > 0:\n",
        "    print(\"Consecutive pairs in stack 2:\")\n",
        "    for pair in consecutive_pairs2:\n",
        "        print(pair)\n",
        "else:\n",
        "    print(\"No consecutive pairs found in stack 2\")\n"
      ],
      "metadata": {
        "colab": {
          "base_uri": "https://localhost:8080/"
        },
        "id": "osME65GoSe5n",
        "outputId": "862f2f87-cd06-444b-e5ec-3f10c04d2e09"
      },
      "execution_count": 3,
      "outputs": [
        {
          "output_type": "stream",
          "name": "stdout",
          "text": [
            "Consecutive pairs in stack 1:\n",
            "(7, 6)\n",
            "(6, 5)\n",
            "Consecutive pairs in stack 2:\n",
            "(6, 5)\n",
            "(9, 8)\n"
          ]
        }
      ]
    },
    {
      "cell_type": "code",
      "source": [
        "#Solution-4:"
      ],
      "metadata": {
        "id": "sH5-_GEMSixK"
      },
      "execution_count": null,
      "outputs": []
    }
  ]
}